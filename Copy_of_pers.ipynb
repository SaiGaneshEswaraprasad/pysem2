{
  "nbformat": 4,
  "nbformat_minor": 0,
  "metadata": {
    "colab": {
      "provenance": []
    },
    "kernelspec": {
      "name": "python3",
      "display_name": "Python 3"
    },
    "language_info": {
      "name": "python"
    }
  },
  "cells": [
    {
      "cell_type": "code",
      "source": [
        "f=-11\n",
        "g=90\n",
        "print(g//f)"
      ],
      "metadata": {
        "colab": {
          "base_uri": "https://localhost:8080/"
        },
        "id": "PfwsvGzdRbkC",
        "outputId": "192f1a26-5512-4c02-ae81-bfb58c709250"
      },
      "execution_count": null,
      "outputs": [
        {
          "output_type": "stream",
          "name": "stdout",
          "text": [
            "-9\n"
          ]
        }
      ]
    },
    {
      "cell_type": "code",
      "source": [
        "h=3\n",
        "d=5\n",
        "print(d%h)"
      ],
      "metadata": {
        "colab": {
          "base_uri": "https://localhost:8080/"
        },
        "id": "eZ4TfTghRsdc",
        "outputId": "b7eb9468-6f27-47cc-ef83-469c31806ffd"
      },
      "execution_count": null,
      "outputs": [
        {
          "output_type": "stream",
          "name": "stdout",
          "text": [
            "2\n"
          ]
        }
      ]
    },
    {
      "cell_type": "code",
      "source": [
        "g=67\n",
        "k=29\n",
        "print(g**k)"
      ],
      "metadata": {
        "colab": {
          "base_uri": "https://localhost:8080/"
        },
        "id": "d2m99ctdRzxB",
        "outputId": "00da423b-d596-4e91-e6d9-5a3c0ec36a27"
      },
      "execution_count": null,
      "outputs": [
        {
          "output_type": "stream",
          "name": "stdout",
          "text": [
            "90400176482989643789462022480435378712807721041576147\n"
          ]
        }
      ]
    },
    {
      "cell_type": "code",
      "execution_count": null,
      "metadata": {
        "colab": {
          "base_uri": "https://localhost:8080/"
        },
        "id": "woNtl3KC6ePm",
        "outputId": "56ab0716-b82a-4d78-d06b-6c00e9e8ef1f"
      },
      "outputs": [
        {
          "output_type": "stream",
          "name": "stdout",
          "text": [
            "7 1.7 heola\n",
            "7/heola."
          ]
        }
      ],
      "source": [
        "a,b,c=(7,1.7,\"heola\")\n",
        "print(a,b,c)\n",
        "print(a,end='/')\n",
        "print(c,end='.')"
      ]
    },
    {
      "cell_type": "code",
      "source": [
        "str=\"hola\"\n",
        "print(str)"
      ],
      "metadata": {
        "colab": {
          "base_uri": "https://localhost:8080/"
        },
        "id": "oX1Xtvlp8MU1",
        "outputId": "df501b2c-3854-4030-b3e8-5c7144f7e5ca"
      },
      "execution_count": null,
      "outputs": [
        {
          "output_type": "stream",
          "name": "stdout",
          "text": [
            "hola\n"
          ]
        }
      ]
    },
    {
      "cell_type": "code",
      "source": [
        "hui=''' hello\n",
        "what in the name of \n",
        "      ghj'''\n",
        "print(hui)"
      ],
      "metadata": {
        "colab": {
          "base_uri": "https://localhost:8080/"
        },
        "id": "130h9V0T8VUy",
        "outputId": "5acc964c-51d5-49bd-c579-312c2b67b4c9"
      },
      "execution_count": null,
      "outputs": [
        {
          "output_type": "stream",
          "name": "stdout",
          "text": [
            " hello\n",
            "what in the name of \n",
            "      ghj\n"
          ]
        }
      ]
    },
    {
      "cell_type": "code",
      "source": [
        "#concat\n",
        "a='hello '\n",
        "b='4'\n",
        "#d=str(678)\n",
        "c='bye1'\n",
        "print(a+b+c+d+' hola')\n",
        "print(d)"
      ],
      "metadata": {
        "colab": {
          "base_uri": "https://localhost:8080/"
        },
        "id": "ayuPNYpk8pdZ",
        "outputId": "5d2d8d28-2cc4-40bd-9e23-b2fc2b78d91e"
      },
      "execution_count": null,
      "outputs": [
        {
          "output_type": "stream",
          "name": "stdout",
          "text": [
            "hello 4bye1678 hola\n",
            "678\n"
          ]
        }
      ]
    },
    {
      "cell_type": "code",
      "source": [
        "a='hello friend '\n",
        "n=int(input(\"ENter no of rep\"))\n",
        "print(a*n+'\\n'+'hello789')"
      ],
      "metadata": {
        "colab": {
          "base_uri": "https://localhost:8080/"
        },
        "id": "epG1huWB8-gs",
        "outputId": "e7ef2f98-4d0a-40dd-8768-8fe097f11ddd"
      },
      "execution_count": null,
      "outputs": [
        {
          "output_type": "stream",
          "name": "stdout",
          "text": [
            "ENter no of rep7\n",
            "hello friend hello friend hello friend hello friend hello friend hello friend hello friend \n",
            "hello789\n"
          ]
        }
      ]
    },
    {
      "cell_type": "code",
      "source": [
        "print('hola')"
      ],
      "metadata": {
        "id": "ZbNzlft_KVma",
        "outputId": "7fc8fac4-eb71-4694-c79d-eebea6f76426",
        "colab": {
          "base_uri": "https://localhost:8080/"
        }
      },
      "execution_count": null,
      "outputs": [
        {
          "output_type": "stream",
          "name": "stdout",
          "text": [
            "hola\n"
          ]
        }
      ]
    },
    {
      "cell_type": "code",
      "source": [
        "f='crappy'\n",
        "g='hello wht the crap'\n",
        "j='hello-wht-the crap'\n",
        "print(len(f))\n",
        "print(f[-1])\n",
        "print(f[1:3])          #slice\n",
        "print(f[1:7])\n",
        "print(f[2:])\n",
        "print(f[::-1])\n",
        "print(g[::-1])\n",
        "split=g.split()\n",
        "#print(split[0[::-1]])\n",
        "print(split[1])        #split\n",
        "split1=j.split(\"-\")\n",
        "print(split1[2])"
      ],
      "metadata": {
        "colab": {
          "base_uri": "https://localhost:8080/"
        },
        "id": "wC8M_hGT_9qo",
        "outputId": "7aeccf07-d1bc-4b0f-d668-061c9396b741"
      },
      "execution_count": null,
      "outputs": [
        {
          "output_type": "stream",
          "name": "stdout",
          "text": [
            "6\n",
            "y\n",
            "ra\n",
            "rappy\n",
            "appy\n",
            "ypparc\n",
            "parc eht thw olleh\n",
            "wht\n",
            "the crap\n"
          ]
        }
      ]
    },
    {
      "cell_type": "code",
      "source": [
        "print('sweet satan \\n'*3)"
      ],
      "metadata": {
        "colab": {
          "base_uri": "https://localhost:8080/"
        },
        "id": "1R_fnznnGvs3",
        "outputId": "9d5af9cd-6e16-4c13-a4a5-d2a7f6cc2d34"
      },
      "execution_count": null,
      "outputs": [
        {
          "output_type": "stream",
          "name": "stdout",
          "text": [
            "sweet satan \n",
            "sweet satan \n",
            "sweet satan \n",
            "\n"
          ]
        }
      ]
    },
    {
      "cell_type": "code",
      "source": [
        "print('9'*100)"
      ],
      "metadata": {
        "colab": {
          "base_uri": "https://localhost:8080/"
        },
        "id": "86dDrP_oHC-5",
        "outputId": "bf611bf2-59ea-467b-8a36-7a694106da20"
      },
      "execution_count": null,
      "outputs": [
        {
          "output_type": "stream",
          "name": "stdout",
          "text": [
            "9999999999999999999999999999999999999999999999999999999999999999999999999999999999999999999999999999\n"
          ]
        }
      ]
    },
    {
      "cell_type": "code",
      "source": [
        "k='werfvgholNmme hola nmme'\n",
        "print(k.index('e'))   #repetition in multiple positions.. it outputs the 1st occurance\n",
        "print(k.index('hola'))  #input a substring, it shows the position of it's start\n",
        "print(k.count('e'))\n",
        "print(k.count('hol'))     #rep of a certain string\n",
        "print(k.count('nmme'))    #case sensitive\n"
      ],
      "metadata": {
        "colab": {
          "base_uri": "https://localhost:8080/"
        },
        "id": "EkMkRLsYH8F9",
        "outputId": "d64a5468-a8c4-4098-85e0-1530ea662dd8"
      },
      "execution_count": null,
      "outputs": [
        {
          "output_type": "stream",
          "name": "stdout",
          "text": [
            "1\n",
            "14\n",
            "3\n",
            "2\n",
            "1\n"
          ]
        }
      ]
    },
    {
      "cell_type": "code",
      "source": [
        "#@title\n",
        "df='  you ThE haPpY nEs  '\n",
        "print(df.upper())      #can use capitalize() too\n",
        "print(df.lower())      #can use casefold() too\n",
        "print(df.startswith(\"y\"))\n",
        "print(df.startswith(\"yoU\"))\n",
        "print(df.endswith(\"s\"))\n",
        "print(df.find('ThE'))\n",
        "print(df.find('The'))\n",
        "print(df.center(125))   #center()\n",
        "print(df.isalnum())       #isalnum()\n",
        "print(df.strip())     #strip()\n",
        "dfrep=df.replace('nEs','sUs')    #replace()\n",
        "print(dfrep)\n",
        "print(df.swapcase())    #swapcase()"
      ],
      "metadata": {
        "colab": {
          "base_uri": "https://localhost:8080/"
        },
        "id": "yJUxYqIALa0l",
        "outputId": "9f1bbc95-9de1-44dc-aa33-e5f302f65d10"
      },
      "execution_count": null,
      "outputs": [
        {
          "output_type": "stream",
          "name": "stdout",
          "text": [
            "  YOU THE HAPPY NES  \n",
            "  you the happy nes  \n",
            "False\n",
            "False\n",
            "False\n",
            "6\n",
            "-1\n",
            "                                                      you ThE haPpY nEs                                                      \n",
            "False\n",
            "you ThE haPpY nEs\n",
            "  you ThE haPpY sUs  \n",
            "  YOU tHe HApPy NeS  \n"
          ]
        }
      ]
    },
    {
      "cell_type": "code",
      "source": [
        "a=float(input(\"enter the number\"))\n",
        "print(a+67)\n",
        "print(type(a))"
      ],
      "metadata": {
        "id": "fdZ99EtSU4jH",
        "colab": {
          "base_uri": "https://localhost:8080/"
        },
        "outputId": "b627ac00-c361-4dc2-9c8b-5af19ce0bb26"
      },
      "execution_count": null,
      "outputs": [
        {
          "output_type": "stream",
          "name": "stdout",
          "text": [
            "enter the number78\n",
            "145.0\n",
            "<class 'float'>\n"
          ]
        }
      ]
    },
    {
      "cell_type": "code",
      "source": [
        "#MAth Functions\n",
        "a=float(input('enter the value of radius '))\n",
        "ap=a*3.14*2\n",
        "print(f'the perimeter of the circle of radius {ap} is '.format(ap)+ str(ap))\n",
        "b=float(input('enter the value of side '))\n",
        "bp=b*4\n",
        "print('the perimeter of the square is '+ str(bp))\n",
        "cl,cb=float(input('enter the value of length of rect ')),float(input('enter the value of breadth of rect '))\n",
        "cp=2*(cl+cb)\n",
        "print(f'the perimeter of the rect of length {cl} and breadth {cb} is '.format(cl,cb)+ str(cp))\n",
        "d1,d2,d3=(input('enter the value of the triangle sides ')).split(',')\n",
        "dp=float(d1)+float(d2)+float(d3)\n",
        "print(f'the perimeter of the triangle with sides {d1},{d2},{d3} is '+ str(dp))\n",
        "es,en=float(input('enter the side of the regular polygon of n sides ')),float(input('enter the no if sides '))\n",
        "# curly bracks { }\n",
        "print(f\"the perimeter of the polygon of sides {en} is \".format(en) +str(es*en))"
      ],
      "metadata": {
        "colab": {
          "base_uri": "https://localhost:8080/"
        },
        "collapsed": true,
        "id": "KO7l-b9MRMV1",
        "outputId": "9db79e99-e063-4202-c0ba-36a251ae606b"
      },
      "execution_count": null,
      "outputs": [
        {
          "output_type": "stream",
          "name": "stdout",
          "text": [
            "enter the value of radius 45\n",
            "the perimeter of the circle of radius 282.6 is 282.6\n",
            "enter the value of side 45\n",
            "the perimeter of the square is 180.0\n",
            "enter the value of length of rect 45\n",
            "enter the value of breadth of rect 45\n",
            "the perimeter of the rect of length 45.0 and breadth 45.0 is 180.0\n",
            "enter the value of the triangle sides 3,4,5\n",
            "the perimeter of the triangle with sides 3,4,5 is 12.0\n",
            "enter the side of the regular polygon of n sides 4\n",
            "enter the no if sides 5\n",
            "the perimeter of the polygon of sides 5.0 is 20.0\n"
          ]
        }
      ]
    },
    {
      "cell_type": "code",
      "source": [
        "import math\n",
        "# Parallelogram\n",
        "length = float(input(\"Enter the length of parallelogram: \"))\n",
        "width = float(input(\"Enter the width of parallelogram: \"))\n",
        "parallelogram_perimeter = 2 * (length + width)\n",
        "print(\"The perimeter of the parallelogram is\", parallelogram_perimeter)\n",
        "#trapezoid\n",
        "a = float(input(\"Enter the length of the first base of trapezoid: \"))\n",
        "b = float(input(\"Enter the length of the second base of trapezoid: \"))\n",
        "h = float(input(\"Enter the height of trapezoid: \"))\n",
        "trapezoid_perimeter = a + b + 2 * h\n",
        "print(\"The perimeter of the trapezoid is\", trapezoid_perimeter)\n",
        "# Ellipse\n",
        "a = float(input(\"Enter the length of the major axis of ellipse: \"))\n",
        "b = float(input(\"Enter the length of the minor axis of ellipse: \"))\n",
        "ellipse_perimeter = 2 * math.pi * math.sqrt(((a**2) + (b**2)) / 2)\n",
        "print(\"The perimeter of the ellipse is\", ellipse_perimeter)\n"
      ],
      "metadata": {
        "colab": {
          "base_uri": "https://localhost:8080/"
        },
        "collapsed": true,
        "id": "s0WDCunqa7pb",
        "outputId": "335bd5eb-3234-4838-9241-35ffd4d94948"
      },
      "execution_count": null,
      "outputs": [
        {
          "output_type": "stream",
          "name": "stdout",
          "text": [
            "Enter the length of parallelogram: 45\n",
            "Enter the width of parallelogram: 45\n",
            "The perimeter of the parallelogram is 180.0\n",
            "Enter the length of the first base of trapezoid: 45\n",
            "Enter the length of the second base of trapezoid: 45\n",
            "Enter the height of trapezoid: 45\n",
            "The perimeter of the trapezoid is 180.0\n",
            "Enter the length of the major axis of ellipse: 45\n",
            "Enter the length of the minor axis of ellipse: 45\n",
            "The perimeter of the ellipse is 282.7433388230814\n"
          ]
        }
      ]
    },
    {
      "cell_type": "code",
      "source": [
        "#sep\n",
        "date,month,yr=input('enter the date with , in btw ').split(',')\n",
        "print(date,month,yr,sep='/')"
      ],
      "metadata": {
        "colab": {
          "base_uri": "https://localhost:8080/"
        },
        "collapsed": true,
        "id": "bj8I4iPNYvuE",
        "outputId": "5016026d-acbd-4987-9579-e27900ab2cd4"
      },
      "execution_count": null,
      "outputs": [
        {
          "output_type": "stream",
          "name": "stdout",
          "text": [
            "enter the date with , in btw3,4,5\n",
            "3/4/5\n"
          ]
        }
      ]
    },
    {
      "cell_type": "code",
      "source": [
        "es,en=float(input('enter the side of the regular polygon of n sides ')),float(input('enter the no if sides '))\n",
        "# curly bracks { }\n",
        "print(f\"the perimeter of the polygon of sides {en} and length {es} is \" +str(es*en))"
      ],
      "metadata": {
        "colab": {
          "base_uri": "https://localhost:8080/"
        },
        "collapsed": true,
        "id": "SYSr2cQab7yJ",
        "outputId": "32dfe7d7-a3a5-43eb-99fd-31cf67dd584a"
      },
      "execution_count": null,
      "outputs": [
        {
          "output_type": "stream",
          "name": "stdout",
          "text": [
            "enter the side of the regular polygon of n sides 78\n",
            "enter the no if sides 89\n",
            "the perimeter of the polygon of sides 89.0 and length 78.0 is 6942.0\n"
          ]
        }
      ]
    },
    {
      "cell_type": "code",
      "source": [
        "'''\n",
        "hola\n",
        "'''"
      ],
      "metadata": {
        "id": "UejzAiuWe6g1",
        "outputId": "c70c2360-6171-4deb-883f-d12a3f295624",
        "colab": {
          "base_uri": "https://localhost:8080/",
          "height": 36
        }
      },
      "execution_count": null,
      "outputs": [
        {
          "output_type": "execute_result",
          "data": {
            "text/plain": [
              "'\\nhola\\n'"
            ],
            "application/vnd.google.colaboratory.intrinsic+json": {
              "type": "string"
            }
          },
          "metadata": {},
          "execution_count": 1
        }
      ]
    },
    {
      "cell_type": "code",
      "source": [],
      "metadata": {
        "id": "tk69rbN2m6tc"
      },
      "execution_count": null,
      "outputs": []
    }
  ]
}